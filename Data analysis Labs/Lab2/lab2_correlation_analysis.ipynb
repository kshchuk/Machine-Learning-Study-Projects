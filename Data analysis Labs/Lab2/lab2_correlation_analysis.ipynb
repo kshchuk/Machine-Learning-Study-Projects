{
 "cells": [
  {
   "cell_type": "code",
   "execution_count": 38,
   "id": "1669dd31",
   "metadata": {},
   "outputs": [
    {
     "name": "stdout",
     "output_type": "stream",
     "text": [
      "     actual_price discount_percentage rating  \\\n",
      "0          ₹1,099                 64%    4.2   \n",
      "1            ₹349                 43%    4.0   \n",
      "2          ₹1,899                 90%    3.9   \n",
      "3            ₹699                 53%    4.2   \n",
      "4            ₹399                 61%    4.2   \n",
      "...           ...                 ...    ...   \n",
      "1460         ₹919                 59%      4   \n",
      "1461       ₹3,045                 25%    4.1   \n",
      "1462       ₹3,080                 28%    3.6   \n",
      "1463       ₹1,890                 26%      4   \n",
      "1464       ₹3,690                 22%    4.3   \n",
      "\n",
      "                                           product_link  \n",
      "0     https://www.amazon.in/Wayona-Braided-WN3LG1-Sy...  \n",
      "1     https://www.amazon.in/Ambrane-Unbreakable-Char...  \n",
      "2     https://www.amazon.in/Sounce-iPhone-Charging-C...  \n",
      "3     https://www.amazon.in/Deuce-300-Resistant-Tang...  \n",
      "4     https://www.amazon.in/Portronics-Konnect-POR-1...  \n",
      "...                                                 ...  \n",
      "1460  https://www.amazon.in/Noir-Aqua-Spanner-Purifi...  \n",
      "1461  https://www.amazon.in/Prestige-Delight-PRWO-1-...  \n",
      "1462  https://www.amazon.in/Bajaj-RX-10-2000-Watt-Co...  \n",
      "1463  https://www.amazon.in/Havells-Ventilair-230mm-...  \n",
      "1464  https://www.amazon.in/Borosil-Jumbo-1000-Watt-...  \n",
      "\n",
      "[1465 rows x 4 columns]\n"
     ]
    }
   ],
   "source": [
    "import pandas as pd\n",
    "import numpy as np\n",
    "\n",
    "# Зчитуємо потрібні змінні з датасету\n",
    "# Read the required variables from the dataset\n",
    "df = pd.read_csv('amazon.csv', usecols=['rating', 'actual_price', 'discount_percentage', 'product_link'])\n",
    "print(df)\n",
    "\n",
    "# Приводимо дані до потрібного вигляду\n",
    "# Format the data into the desired form\n",
    "rating =  df['rating'].apply(pd.to_numeric, errors='coerce')\n",
    "\n",
    "discount_percentage = df['discount_percentage']\n",
    "for i in range(len(discount_percentage)):\n",
    "    # Видаляємо символ '%' з кінця\n",
    "    # Delete '%' character from the end\n",
    "    discount_percentage[i] = discount_percentage[i].strip('%')\n",
    "# Форматуємо в числовий тип\n",
    "# Format into a numeric type\n",
    "discount_percentage = discount_percentage.apply(pd.to_numeric, errors='coerce')     \n",
    "\n",
    "actual_price = df['actual_price']\n",
    "for i in range(len(actual_price)):\n",
    "    actual_price[i] = actual_price[i].replace(',', '').strip('₹')\n",
    "actual_price = actual_price.apply(pd.to_numeric, errors='coerce')\n",
    "\n",
    "\n",
    "# Видаляємо нечислові значення (помилки зчитування)\n",
    "# Remove NaN values (reading errors)\n",
    "actual_price = actual_price.drop(index=1279)\n",
    "discount_percentage = discount_percentage.drop(index=1279)\n",
    "rating = rating.drop(index=1279)   \n"
   ]
  },
  {
   "cell_type": "code",
   "execution_count": 39,
   "id": "188aa67c",
   "metadata": {},
   "outputs": [
    {
     "name": "stdout",
     "output_type": "stream",
     "text": [
      "0       4.2\n",
      "1       4.0\n",
      "2       3.9\n",
      "3       4.2\n",
      "4       4.2\n",
      "       ... \n",
      "1460    4.0\n",
      "1461    4.1\n",
      "1462    3.6\n",
      "1463    4.0\n",
      "1464    4.3\n",
      "Name: rating, Length: 1464, dtype: float64\n",
      "0       64\n",
      "1       43\n",
      "2       90\n",
      "3       53\n",
      "4       61\n",
      "        ..\n",
      "1460    59\n",
      "1461    25\n",
      "1462    28\n",
      "1463    26\n",
      "1464    22\n",
      "Name: discount_percentage, Length: 1464, dtype: int64\n",
      "0       1099.0\n",
      "1        349.0\n",
      "2       1899.0\n",
      "3        699.0\n",
      "4        399.0\n",
      "         ...  \n",
      "1460     919.0\n",
      "1461    3045.0\n",
      "1462    3080.0\n",
      "1463    1890.0\n",
      "1464    3690.0\n",
      "Name: actual_price, Length: 1464, dtype: float64\n"
     ]
    }
   ],
   "source": [
    "print(rating)\n",
    "print(discount_percentage)\n",
    "print(actual_price)"
   ]
  },
  {
   "cell_type": "code",
   "execution_count": 40,
   "id": "f5a478bf",
   "metadata": {},
   "outputs": [
    {
     "name": "stdout",
     "output_type": "stream",
     "text": [
      "1464\n",
      "1464\n",
      "1464\n"
     ]
    }
   ],
   "source": [
    "print(actual_price.count())\n",
    "print(rating.count())\n",
    "print(discount_percentage.count())"
   ]
  },
  {
   "cell_type": "code",
   "execution_count": 41,
   "id": "58d1a2ee",
   "metadata": {},
   "outputs": [
    {
     "name": "stdout",
     "output_type": "stream",
     "text": [
      "Statistics=0.483, p=0.000\n"
     ]
    }
   ],
   "source": [
    "from scipy.stats import shapiro\n",
    "\n",
    "stat, p = shapiro(actual_price)\n",
    "print('Statistics=%.3f, p=%.3f' % (stat, p))"
   ]
  },
  {
   "cell_type": "code",
   "execution_count": 42,
   "id": "b5bc2b5a",
   "metadata": {},
   "outputs": [
    {
     "name": "stdout",
     "output_type": "stream",
     "text": [
      "Statistics=0.925, p=0.000\n"
     ]
    }
   ],
   "source": [
    "stat, p = shapiro(rating)\n",
    "print('Statistics=%.3f, p=%.3f' % (stat, p))"
   ]
  },
  {
   "cell_type": "code",
   "execution_count": 43,
   "id": "c2f1544a",
   "metadata": {},
   "outputs": [
    {
     "name": "stdout",
     "output_type": "stream",
     "text": [
      "Statistics=0.981, p=0.000\n"
     ]
    }
   ],
   "source": [
    "stat, p = shapiro(discount_percentage)\n",
    "print('Statistics=%.3f, p=%.3f' % (stat, p))"
   ]
  },
  {
   "cell_type": "code",
   "execution_count": 44,
   "id": "befd55dc",
   "metadata": {},
   "outputs": [
    {
     "name": "stdout",
     "output_type": "stream",
     "text": [
      "                     Actual Price    Rating  Discount Percentage\n",
      "Actual Price             1.000000  0.033441            -0.066040\n",
      "Rating                   0.033441  1.000000            -0.145954\n",
      "Discount Percentage     -0.066040 -0.145954             1.000000\n"
     ]
    }
   ],
   "source": [
    "import pandas as pd\n",
    "\n",
    "df = pd.DataFrame({'Actual Price': actual_price, 'Rating' : rating, 'Discount Percentage' : discount_percentage})\n",
    "\n",
    "corr_matrix = df.corr(method='spearman')\n",
    "\n",
    "print(corr_matrix)"
   ]
  },
  {
   "cell_type": "code",
   "execution_count": 45,
   "id": "0f3b8929",
   "metadata": {},
   "outputs": [],
   "source": [
    "import scipy.stats as stats"
   ]
  },
  {
   "cell_type": "code",
   "execution_count": 46,
   "id": "70211f9a",
   "metadata": {},
   "outputs": [
    {
     "name": "stdout",
     "output_type": "stream",
     "text": [
      "p_value:  0.20096934858153945\n"
     ]
    }
   ],
   "source": [
    "_, pval = stats.spearmanr(actual_price, rating)\n",
    "print(\"p_value: \", pval)"
   ]
  },
  {
   "cell_type": "code",
   "execution_count": 47,
   "id": "41324ec2",
   "metadata": {},
   "outputs": [
    {
     "name": "stdout",
     "output_type": "stream",
     "text": [
      "p_value:  0.011490172669125045\n"
     ]
    }
   ],
   "source": [
    "_, pval = stats.spearmanr(actual_price, discount_percentage)\n",
    "print(\"p_value: \", pval)"
   ]
  },
  {
   "cell_type": "code",
   "execution_count": 48,
   "id": "9f7bac18",
   "metadata": {},
   "outputs": [
    {
     "name": "stdout",
     "output_type": "stream",
     "text": [
      "p_value:  2.0252782263192194e-08\n"
     ]
    }
   ],
   "source": [
    "_, pval = stats.spearmanr(discount_percentage, rating)\n",
    "print(\"p_value: \", pval)"
   ]
  },
  {
   "cell_type": "code",
   "execution_count": 49,
   "id": "bae5c22b",
   "metadata": {},
   "outputs": [
    {
     "name": "stdout",
     "output_type": "stream",
     "text": [
      "                     Actual Price    Rating  Discount Percentage\n",
      "Actual Price             1.000000  0.026142            -0.047148\n",
      "Rating                   0.026142  1.000000            -0.103038\n",
      "Discount Percentage     -0.047148 -0.103038             1.000000\n"
     ]
    }
   ],
   "source": [
    "import pandas as pd\n",
    "\n",
    "df = pd.DataFrame({'Actual Price': actual_price, 'Rating' : rating, 'Discount Percentage' : discount_percentage})\n",
    "\n",
    "corr_matrix = df.corr(method='kendall')\n",
    "\n",
    "print(corr_matrix)"
   ]
  },
  {
   "cell_type": "code",
   "execution_count": 50,
   "id": "f95d087a",
   "metadata": {},
   "outputs": [
    {
     "name": "stdout",
     "output_type": "stream",
     "text": [
      "p_value 0.15804364216563882\n"
     ]
    }
   ],
   "source": [
    "_, pval = stats.kendalltau(actual_price, rating)\n",
    "print(\"p_value\", pval)"
   ]
  },
  {
   "cell_type": "code",
   "execution_count": 51,
   "id": "7e8c274b",
   "metadata": {},
   "outputs": [
    {
     "name": "stdout",
     "output_type": "stream",
     "text": [
      "p_value 0.00776144972346207\n"
     ]
    }
   ],
   "source": [
    "_, pval = stats.kendalltau(actual_price, discount_percentage)\n",
    "print(\"p_value\", pval)"
   ]
  },
  {
   "cell_type": "code",
   "execution_count": 52,
   "id": "4ad66baa",
   "metadata": {},
   "outputs": [
    {
     "name": "stdout",
     "output_type": "stream",
     "text": [
      "p_value 2.6585352293548356e-08\n"
     ]
    }
   ],
   "source": [
    "_, pval = stats.kendalltau(discount_percentage, rating)\n",
    "print(\"p_value\", pval)"
   ]
  },
  {
   "cell_type": "code",
   "execution_count": 53,
   "id": "dfed5fba",
   "metadata": {},
   "outputs": [
    {
     "data": {
      "text/plain": [
       "Text(0.5, 0, 'rating')"
      ]
     },
     "execution_count": 53,
     "metadata": {},
     "output_type": "execute_result"
    },
    {
     "data": {
      "image/png": "[encoded data removed]",
      "text/plain": [
       "<Figure size 640x480 with 1 Axes>"
      ]
     },
     "metadata": {},
     "output_type": "display_data"
    }
   ],
   "source": [
    "import matplotlib.pyplot as plt\n",
    "\n",
    "plt.scatter(rating, actual_price)\n",
    "plt.title(\"Scatter Plot\")\n",
    "plt.ylabel(\"actual_price\")\n",
    "plt.xlabel(\"rating\")"
   ]
  },
  {
   "cell_type": "code",
   "execution_count": 54,
   "id": "0051902c",
   "metadata": {},
   "outputs": [
    {
     "data": {
      "text/plain": [
       "Text(0.5, 0, 'discount_percentage')"
      ]
     },
     "execution_count": 54,
     "metadata": {},
     "output_type": "execute_result"
    },
    {
     "data": {
      "image/png": "[encoded data removed]",
      "text/plain": [
       "<Figure size 640x480 with 1 Axes>"
      ]
     },
     "metadata": {},
     "output_type": "display_data"
    }
   ],
   "source": [
    "plt.scatter(discount_percentage, actual_price)\n",
    "plt.title(\"Scatter Plot\")\n",
    "plt.ylabel(\"actual_price\")\n",
    "plt.xlabel(\"discount_percentage\")"
   ]
  },
  {
   "cell_type": "code",
   "execution_count": 55,
   "id": "4f0f82af",
   "metadata": {},
   "outputs": [
    {
     "data": {
      "text/plain": [
       "Text(0.5, 0, 'discount_percentage')"
      ]
     },
     "execution_count": 55,
     "metadata": {},
     "output_type": "execute_result"
    },
    {
     "data": {
      "image/png": "[encoded data removed]",
      "text/plain": [
       "<Figure size 640x480 with 1 Axes>"
      ]
     },
     "metadata": {},
     "output_type": "display_data"
    }
   ],
   "source": [
    "plt.scatter(discount_percentage, rating)\n",
    "plt.title(\"Scatter Plot\")\n",
    "plt.ylabel(\"rating\")\n",
    "plt.xlabel(\"discount_percentage\")"
   ]
  },
  {
   "cell_type": "code",
   "execution_count": 56,
   "id": "7531678d",
   "metadata": {},
   "outputs": [],
   "source": [
    "import statsmodels.formula.api as smf\n",
    "\n",
    "# Repackage the dataframe into a pandas dataframe\n",
    "df = pd.DataFrame({'actual_price': actual_price, 'rating': rating, 'discount_percentage': discount_percentage})\n",
    "\n",
    "formula = 'actual_price' + '~ rating + discount_percentage'\n",
    "\n",
    "# Generate linear regression model using Least Squares method\n",
    "model = smf.ols(formula=formula, data=df).fit()"
   ]
  },
  {
   "cell_type": "code",
   "execution_count": 57,
   "id": "156f1671",
   "metadata": {},
   "outputs": [
    {
     "name": "stdout",
     "output_type": "stream",
     "text": [
      "R-squared: 0.024286872718635943\n"
     ]
    }
   ],
   "source": [
    "# get the coefficients of the regression function\n",
    "coef = model.params\n",
    "\n",
    "# extract independent variables\n",
    "X = df[['rating', 'discount_percentage']]\n",
    "\n",
    "# calculate predicted values\n",
    "y_pred = np.dot(X, coef[1:]) + coef[0]\n",
    "\n",
    "# calculate sum of squared residuals\n",
    "ss_res = np.sum((df['actual_price'] - y_pred)**2)\n",
    "\n",
    "# calculate total sum of squares\n",
    "ss_tot = np.sum((df['actual_price'] - np.mean(df['actual_price']))**2)\n",
    "\n",
    "# independed variables number (predictors number)\n",
    "p = 2\n",
    "\n",
    "# dataframe size \n",
    "n = df.__len__()\n",
    "\n",
    "# calculate R-squared\n",
    "r_squared = 1 - (ss_res / (n - p)) / (ss_tot / (n - 1))\n",
    "\n",
    "print(\"R-squared:\", r_squared)"
   ]
  },
  {
   "cell_type": "code",
   "execution_count": 58,
   "id": "1e3b4b41",
   "metadata": {},
   "outputs": [
    {
     "name": "stdout",
     "output_type": "stream",
     "text": [
      "P-value: 2.041748440154469e-09\n"
     ]
    }
   ],
   "source": [
    "from scipy.stats import f\n",
    "\n",
    "# F-statistic in a linear regression analysis\n",
    "F = r_squared / (1 - r_squared) * (n - p) / (p - 1)\n",
    "\n",
    "p_value = f.sf(F, p - 1, n - p)\n",
    "\n",
    "print(\"P-value:\", p_value)"
   ]
  },
  {
   "cell_type": "code",
   "execution_count": 59,
   "id": "cc812143",
   "metadata": {},
   "outputs": [],
   "source": [
    "import statsmodels.api as sm\n",
    "\n",
    "# Create the design matrix\n",
    "X = df[['rating', 'discount_percentage']]\n",
    "X = sm.add_constant(X)\n",
    "\n",
    "# Create the response vector\n",
    "y = df['actual_price']\n",
    "\n",
    "# Create the robust regression model\n",
    "rlm_model = sm.RLM(y, X, M=sm.robust.norms.HuberT())\n",
    "\n",
    "# Fit the model\n",
    "rlm_results = rlm_model.fit()"
   ]
  },
  {
   "cell_type": "code",
   "execution_count": 60,
   "metadata": {},
   "outputs": [
    {
     "name": "stdout",
     "output_type": "stream",
     "text": [
      "R-squared: -0.06962714401299563\n"
     ]
    }
   ],
   "source": [
    "# get the coefficients of the regression function\n",
    "coef = rlm_results.params\n",
    "\n",
    "# extract independent variables\n",
    "X = df[['rating', 'discount_percentage']]\n",
    "\n",
    "# calculate predicted values\n",
    "y_pred = np.dot(X, coef[1:]) + coef[0]\n",
    "\n",
    "# calculate sum of squared residuals\n",
    "ss_res = np.sum((df['actual_price'] - y_pred)**2)\n",
    "\n",
    "# calculate total sum of squares\n",
    "ss_tot = np.sum((df['actual_price'] - np.mean(df['actual_price']))**2)\n",
    "\n",
    "# independed variables number (predictors number)\n",
    "p = 2\n",
    "\n",
    "# dataframe size \n",
    "n = df.__len__()\n",
    "\n",
    "# calculate R-squared\n",
    "r_squared = 1 - (ss_res / (n - p)) / (ss_tot / (n - 1))\n",
    "\n",
    "print(\"R-squared:\", r_squared)"
   ]
  },
  {
   "cell_type": "code",
   "execution_count": 61,
   "id": "1de0a959",
   "metadata": {},
   "outputs": [
    {
     "name": "stdout",
     "output_type": "stream",
     "text": [
      "P-value: 1.0\n"
     ]
    }
   ],
   "source": [
    "from scipy.stats import f\n",
    "\n",
    "F = r_squared / (1 - r_squared) * (n - p) / (p - 1)\n",
    "\n",
    "p_value = f.sf(F, p - 1, n - p)\n",
    "\n",
    "print(\"P-value:\", p_value)"
   ]
  },
  {
   "cell_type": "code",
   "execution_count": 62,
   "id": "e21e4afb",
   "metadata": {},
   "outputs": [],
   "source": [
    "from sklearn.preprocessing import StandardScaler\n",
    "\n",
    "pactual_price = actual_price.values.reshape(-1, 1)\n",
    "prating = rating.values.reshape(-1, 1)\n",
    "pdiscount = discount_percentage.values.reshape(-1, 1)\n",
    "\n",
    "scaler = StandardScaler()\n",
    "\n",
    "normalized_actual_price = scaler.fit_transform(pactual_price).flatten()\n",
    "normalized_rating = scaler.fit_transform(prating).flatten()\n",
    "normalized_discount_percentage = scaler.fit_transform(pdiscount).flatten()"
   ]
  },
  {
   "cell_type": "code",
   "execution_count": 63,
   "id": "d39e1951",
   "metadata": {},
   "outputs": [
    {
     "name": "stdout",
     "output_type": "stream",
     "text": [
      "                               OLS Regression Results                              \n",
      "===================================================================================\n",
      "Dep. Variable:     normalized_actual_price   R-squared:                       0.025\n",
      "Model:                                 OLS   Adj. R-squared:                  0.024\n",
      "Method:                      Least Squares   F-statistic:                     18.70\n",
      "Date:                     Tue, 16 May 2023   Prob (F-statistic):           9.61e-09\n",
      "Time:                             00:55:18   Log-Likelihood:                -2058.8\n",
      "No. Observations:                     1464   AIC:                             4124.\n",
      "Df Residuals:                         1461   BIC:                             4140.\n",
      "Df Model:                                2                                         \n",
      "Covariance Type:                 nonrobust                                         \n",
      "==================================================================================================\n",
      "                                     coef    std err          t      P>|t|      [0.025      0.975]\n",
      "--------------------------------------------------------------------------------------------------\n",
      "Intercept                      -1.023e-16      0.026  -3.96e-15      1.000      -0.051       0.051\n",
      "normalized_rating                  0.1058      0.026      4.045      0.000       0.054       0.157\n",
      "normalized_discount_percentage    -0.1020      0.026     -3.901      0.000      -0.153      -0.051\n",
      "==============================================================================\n",
      "Omnibus:                     1375.384   Durbin-Watson:                   1.895\n",
      "Prob(Omnibus):                  0.000   Jarque-Bera (JB):            55204.267\n",
      "Skew:                           4.416   Prob(JB):                         0.00\n",
      "Kurtosis:                      31.757   Cond. No.                         1.17\n",
      "==============================================================================\n",
      "\n",
      "Notes:\n",
      "[1] Standard Errors assume that the covariance matrix of the errors is correctly specified.\n"
     ]
    }
   ],
   "source": [
    "df1 = pd.DataFrame({'normalized_actual_price': normalized_actual_price, 'normalized_rating': normalized_rating, 'normalized_discount_percentage': normalized_discount_percentage})\n",
    "\n",
    "formula = 'normalized_actual_price' + '~ normalized_rating + normalized_discount_percentage'\n",
    "model = smf.ols(formula=formula, data=df1).fit()\n",
    "print(model.summary())"
   ]
  },
  {
   "cell_type": "code",
   "execution_count": 64,
   "id": "58d411cd",
   "metadata": {},
   "outputs": [
    {
     "name": "stdout",
     "output_type": "stream",
     "text": [
      "R-squared: 0.024286872718636165\n"
     ]
    }
   ],
   "source": [
    "coef = model.params\n",
    "\n",
    "# extract independent variables\n",
    "X = df1[['normalized_rating', 'normalized_discount_percentage']]\n",
    "\n",
    "# calculate predicted values\n",
    "y_pred = np.dot(X, coef[1:]) + coef[0]\n",
    "\n",
    "# calculate sum of squared residuals\n",
    "ss_res = np.sum((df1['normalized_actual_price'] - y_pred)**2)\n",
    "\n",
    "# calculate total sum of squares\n",
    "ss_tot = np.sum((df1['normalized_actual_price'] - np.mean(df1['normalized_actual_price']))**2)\n",
    "\n",
    "# independed variables number (predictors number)\n",
    "p = 2\n",
    "\n",
    "# dataframe size \n",
    "n = df.__len__()\n",
    "\n",
    "# calculate R-squared\n",
    "r_squared = 1 - (ss_res / (n - p)) / (ss_tot / (n - 1))\n",
    "\n",
    "print(\"R-squared:\", r_squared)"
   ]
  },
  {
   "cell_type": "code",
   "execution_count": 65,
   "id": "ec8abdf2",
   "metadata": {},
   "outputs": [
    {
     "name": "stdout",
     "output_type": "stream",
     "text": [
      "P-value: 2.0417484401539395e-09\n"
     ]
    }
   ],
   "source": [
    "F = r_squared / (1 - r_squared) * (n - p) / (p - 1)\n",
    "\n",
    "p_value = f.sf(F, p - 1, n - p)\n",
    "\n",
    "print(\"P-value:\", p_value)"
   ]
  },
  {
   "cell_type": "code",
   "execution_count": 66,
   "id": "ab913dc4",
   "metadata": {},
   "outputs": [],
   "source": [
    "formula = 'rating' + '~ actual_price + discount_percentage'\n",
    "\n",
    "# Generate linear regression model using Least Squares method   \n",
    "model = smf.ols(formula=formula, data=df).fit()"
   ]
  },
  {
   "cell_type": "code",
   "execution_count": 67,
   "id": "234d3833",
   "metadata": {},
   "outputs": [
    {
     "name": "stdout",
     "output_type": "stream",
     "text": [
      "R-squared: 0.0342908163613741\n"
     ]
    }
   ],
   "source": [
    "# get the coefficients of the regression function\n",
    "coef = model.params\n",
    "\n",
    "# extract independent variables\n",
    "X = df[['actual_price', 'discount_percentage']]\n",
    "\n",
    "# calculate predicted values\n",
    "y_pred = np.dot(X, coef[1:]) + coef[0]\n",
    "\n",
    "# calculate sum of squared residuals\n",
    "ss_res = np.sum((df['rating'] - y_pred)**2)\n",
    "\n",
    "# calculate total sum of squares\n",
    "ss_tot = np.sum((df['rating'] - np.mean(df['rating']))**2)\n",
    "\n",
    "# independed variables number (predictors number)\n",
    "p = 2\n",
    "\n",
    "# dataframe size \n",
    "n = df.__len__()\n",
    "\n",
    "# calculate R-squared\n",
    "r_squared = 1 - (ss_res / (n - p)) / (ss_tot / (n - 1))\n",
    "\n",
    "print(\"R-squared:\", r_squared)"
   ]
  },
  {
   "cell_type": "code",
   "execution_count": 68,
   "id": "5acd726c",
   "metadata": {},
   "outputs": [
    {
     "name": "stdout",
     "output_type": "stream",
     "text": [
      "P-value: 9.25777644420574e-13\n"
     ]
    }
   ],
   "source": [
    "F = r_squared / (1 - r_squared) * (n - p) / (p - 1)\n",
    "\n",
    "p_value = f.sf(F, p - 1, n - p)\n",
    "\n",
    "print(\"P-value:\", p_value)"
   ]
  },
  {
   "cell_type": "code",
   "execution_count": 69,
   "id": "a8872fd2",
   "metadata": {},
   "outputs": [],
   "source": [
    "formula = 'discount_percentage' + '~ actual_price + rating'\n",
    "\n",
    "# Generate linear regression model using Least Squares method   \n",
    "model = smf.ols(formula=formula, data=df).fit()"
   ]
  },
  {
   "cell_type": "code",
   "execution_count": 70,
   "id": "68be77e6",
   "metadata": {},
   "outputs": [
    {
     "name": "stdout",
     "output_type": "stream",
     "text": [
      "R-squared: 0.0335416867635856\n"
     ]
    }
   ],
   "source": [
    "# get the coefficients of the regression function\n",
    "coef = model.params\n",
    "\n",
    "# extract independent variables\n",
    "X = df[['actual_price', 'rating']]\n",
    "\n",
    "# calculate predicted values\n",
    "y_pred = np.dot(X, coef[1:]) + coef[0]\n",
    "\n",
    "# calculate sum of squared residuals\n",
    "ss_res = np.sum((df['discount_percentage'] - y_pred)**2)\n",
    "\n",
    "# calculate total sum of squares\n",
    "ss_tot = np.sum((df['discount_percentage'] - np.mean(df['discount_percentage']))**2)\n",
    "\n",
    "# independed variables number (predictors number)\n",
    "p = 2\n",
    "\n",
    "# dataframe size \n",
    "n = df.__len__()\n",
    "\n",
    "# calculate R-squared\n",
    "r_squared = 1 - (ss_res / (n - p)) / (ss_tot / (n - 1))\n",
    "\n",
    "print(\"R-squared:\", r_squared)"
   ]
  },
  {
   "cell_type": "code",
   "execution_count": 71,
   "id": "7e411ca8",
   "metadata": {},
   "outputs": [
    {
     "name": "stdout",
     "output_type": "stream",
     "text": [
      "P-value: 1.6493065703164507e-12\n"
     ]
    }
   ],
   "source": [
    "F = r_squared / (1 - r_squared) * (n - p) / (p - 1)\n",
    "\n",
    "p_value = f.sf(F, p - 1, n - p)\n",
    "\n",
    "print(\"P-value:\", p_value)"
   ]
  },
  {
   "cell_type": "code",
   "execution_count": 72,
   "id": "78a20272",
   "metadata": {},
   "outputs": [
    {
     "data": {
      "image/png": "[encoded data removed]",
      "text/plain": [
       "<Figure size 640x480 with 1 Axes>"
      ]
     },
     "metadata": {},
     "output_type": "display_data"
    }
   ],
   "source": [
    "actual_price.plot(kind = 'density', color='green', bw_method=0.7)\n",
    "plt.title('Probability Density Function (PDF) for actual_price')\n",
    "plt.show()"
   ]
  },
  {
   "attachments": {},
   "cell_type": "markdown",
   "metadata": {},
   "source": []
  },
  {
   "cell_type": "code",
   "execution_count": 73,
   "id": "cc753478",
   "metadata": {},
   "outputs": [
    {
     "name": "stdout",
     "output_type": "stream",
     "text": [
      "-1.9413735949729513e-17\n",
      "1.0\n"
     ]
    }
   ],
   "source": [
    "print(normalized_actual_price.mean())\n",
    "print(normalized_actual_price.std())"
   ]
  },
  {
   "cell_type": "code",
   "execution_count": 74,
   "id": "c26400c7",
   "metadata": {},
   "outputs": [
    {
     "data": {
      "image/png": "[encoded data removed]",
      "text/plain": [
       "<Figure size 640x480 with 1 Axes>"
      ]
     },
     "metadata": {},
     "output_type": "display_data"
    }
   ],
   "source": [
    "normalized_actual_price = pd.Series(normalized_actual_price.flatten())\n",
    "normalized_actual_price.plot(kind = 'density', color='green', bw_method=0.7)\n",
    "plt.title('Probability Density Function (PDF) for normalized_actual_price')\n",
    "plt.show()"
   ]
  },
  {
   "cell_type": "code",
   "execution_count": null,
   "metadata": {},
   "outputs": [],
   "source": []
  }
 ],
 "metadata": {
  "kernelspec": {
   "display_name": "Python 3 (ipykernel)",
   "language": "python",
   "name": "python3"
  },
  "language_info": {
   "codemirror_mode": {
    "name": "ipython",
    "version": 3
   },
   "file_extension": ".py",
   "mimetype": "text/x-python",
   "name": "python",
   "nbconvert_exporter": "python",
   "pygments_lexer": "ipython3",
   "version": "3.10.2"
  }
 },
 "nbformat": 4,
 "nbformat_minor": 5
}
